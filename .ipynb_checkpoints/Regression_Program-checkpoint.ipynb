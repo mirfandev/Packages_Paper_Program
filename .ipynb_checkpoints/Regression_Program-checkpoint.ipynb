{
 "cells": [
  {
   "cell_type": "code",
   "execution_count": 1,
   "id": "68d8ef4f",
   "metadata": {},
   "outputs": [],
   "source": [
    "# Import necessary Python Libraries for Regression Analysis (Machine Learning)\n",
    "import pandas as pd\n",
    "import numpy as np\n",
    "from sklearn import linear_model"
   ]
  },
  {
   "cell_type": "code",
   "execution_count": 2,
   "id": "aa5f8950",
   "metadata": {},
   "outputs": [
    {
     "data": {
      "text/html": [
       "<div>\n",
       "<style scoped>\n",
       "    .dataframe tbody tr th:only-of-type {\n",
       "        vertical-align: middle;\n",
       "    }\n",
       "\n",
       "    .dataframe tbody tr th {\n",
       "        vertical-align: top;\n",
       "    }\n",
       "\n",
       "    .dataframe thead th {\n",
       "        text-align: right;\n",
       "    }\n",
       "</style>\n",
       "<table border=\"1\" class=\"dataframe\">\n",
       "  <thead>\n",
       "    <tr style=\"text-align: right;\">\n",
       "      <th></th>\n",
       "      <th>Machine No.</th>\n",
       "      <th>Substrate</th>\n",
       "      <th>hrs</th>\n",
       "      <th>Produced Meter/hr</th>\n",
       "      <th>Speed(m/hr)</th>\n",
       "      <th>Total RunTime(hrs)</th>\n",
       "      <th>Warmup Time(hrs)</th>\n",
       "      <th>Changeover Time(hrs)</th>\n",
       "      <th>Waiting Time(hrs)</th>\n",
       "      <th>Density of PET+MOPP(g/cm3)</th>\n",
       "      <th>Energy_KWh</th>\n",
       "    </tr>\n",
       "  </thead>\n",
       "  <tbody>\n",
       "    <tr>\n",
       "      <th>0</th>\n",
       "      <td>22140</td>\n",
       "      <td>PET+MOPP</td>\n",
       "      <td>6.46</td>\n",
       "      <td>1800.309598</td>\n",
       "      <td>7.5</td>\n",
       "      <td>1.1500</td>\n",
       "      <td>0.25</td>\n",
       "      <td>0.13</td>\n",
       "      <td>0.125</td>\n",
       "      <td>1.4</td>\n",
       "      <td>259</td>\n",
       "    </tr>\n",
       "    <tr>\n",
       "      <th>1</th>\n",
       "      <td>22140</td>\n",
       "      <td>PET+MOPP</td>\n",
       "      <td>6.70</td>\n",
       "      <td>7741.940299</td>\n",
       "      <td>7.5</td>\n",
       "      <td>5.7667</td>\n",
       "      <td>0.25</td>\n",
       "      <td>0.36</td>\n",
       "      <td>0.350</td>\n",
       "      <td>1.4</td>\n",
       "      <td>372</td>\n",
       "    </tr>\n",
       "    <tr>\n",
       "      <th>2</th>\n",
       "      <td>22140</td>\n",
       "      <td>PET+MOPP</td>\n",
       "      <td>6.13</td>\n",
       "      <td>19483.686790</td>\n",
       "      <td>7.5</td>\n",
       "      <td>13.5170</td>\n",
       "      <td>0.25</td>\n",
       "      <td>2.30</td>\n",
       "      <td>2.200</td>\n",
       "      <td>1.4</td>\n",
       "      <td>1623</td>\n",
       "    </tr>\n",
       "    <tr>\n",
       "      <th>3</th>\n",
       "      <td>22140</td>\n",
       "      <td>PET+MOPP</td>\n",
       "      <td>0.33</td>\n",
       "      <td>531596.969700</td>\n",
       "      <td>7.5</td>\n",
       "      <td>16.0330</td>\n",
       "      <td>0.25</td>\n",
       "      <td>2.10</td>\n",
       "      <td>2.135</td>\n",
       "      <td>1.4</td>\n",
       "      <td>721</td>\n",
       "    </tr>\n",
       "  </tbody>\n",
       "</table>\n",
       "</div>"
      ],
      "text/plain": [
       "   Machine No. Substrate   hrs  Produced Meter/hr  Speed(m/hr)  \\\n",
       "0        22140  PET+MOPP  6.46        1800.309598          7.5   \n",
       "1        22140  PET+MOPP  6.70        7741.940299          7.5   \n",
       "2        22140  PET+MOPP  6.13       19483.686790          7.5   \n",
       "3        22140  PET+MOPP  0.33      531596.969700          7.5   \n",
       "\n",
       "   Total RunTime(hrs)  Warmup Time(hrs)  Changeover Time(hrs)  \\\n",
       "0              1.1500              0.25                  0.13   \n",
       "1              5.7667              0.25                  0.36   \n",
       "2             13.5170              0.25                  2.30   \n",
       "3             16.0330              0.25                  2.10   \n",
       "\n",
       "   Waiting Time(hrs)  Density of PET+MOPP(g/cm3)  Energy_KWh  \n",
       "0              0.125                         1.4         259  \n",
       "1              0.350                         1.4         372  \n",
       "2              2.200                         1.4        1623  \n",
       "3              2.135                         1.4         721  "
      ]
     },
     "execution_count": 2,
     "metadata": {},
     "output_type": "execute_result"
    }
   ],
   "source": [
    "# Reading csv file (excel file) using pandas library\n",
    "# df is representing our dataframe\n",
    "df = pd.read_csv(\"C:\\\\Users\\\\irfan\\\\OneDrive\\\\Packages_Paper\\\\Linear_Regression_Python_Program_ML\\\\Packages.csv\")\n",
    "\n",
    "\n",
    "# Printing Dataframe\n",
    "df"
   ]
  },
  {
   "cell_type": "code",
   "execution_count": 8,
   "id": "622e5194",
   "metadata": {},
   "outputs": [
    {
     "data": {
      "text/html": [
       "<style>#sk-container-id-2 {color: black;background-color: white;}#sk-container-id-2 pre{padding: 0;}#sk-container-id-2 div.sk-toggleable {background-color: white;}#sk-container-id-2 label.sk-toggleable__label {cursor: pointer;display: block;width: 100%;margin-bottom: 0;padding: 0.3em;box-sizing: border-box;text-align: center;}#sk-container-id-2 label.sk-toggleable__label-arrow:before {content: \"▸\";float: left;margin-right: 0.25em;color: #696969;}#sk-container-id-2 label.sk-toggleable__label-arrow:hover:before {color: black;}#sk-container-id-2 div.sk-estimator:hover label.sk-toggleable__label-arrow:before {color: black;}#sk-container-id-2 div.sk-toggleable__content {max-height: 0;max-width: 0;overflow: hidden;text-align: left;background-color: #f0f8ff;}#sk-container-id-2 div.sk-toggleable__content pre {margin: 0.2em;color: black;border-radius: 0.25em;background-color: #f0f8ff;}#sk-container-id-2 input.sk-toggleable__control:checked~div.sk-toggleable__content {max-height: 200px;max-width: 100%;overflow: auto;}#sk-container-id-2 input.sk-toggleable__control:checked~label.sk-toggleable__label-arrow:before {content: \"▾\";}#sk-container-id-2 div.sk-estimator input.sk-toggleable__control:checked~label.sk-toggleable__label {background-color: #d4ebff;}#sk-container-id-2 div.sk-label input.sk-toggleable__control:checked~label.sk-toggleable__label {background-color: #d4ebff;}#sk-container-id-2 input.sk-hidden--visually {border: 0;clip: rect(1px 1px 1px 1px);clip: rect(1px, 1px, 1px, 1px);height: 1px;margin: -1px;overflow: hidden;padding: 0;position: absolute;width: 1px;}#sk-container-id-2 div.sk-estimator {font-family: monospace;background-color: #f0f8ff;border: 1px dotted black;border-radius: 0.25em;box-sizing: border-box;margin-bottom: 0.5em;}#sk-container-id-2 div.sk-estimator:hover {background-color: #d4ebff;}#sk-container-id-2 div.sk-parallel-item::after {content: \"\";width: 100%;border-bottom: 1px solid gray;flex-grow: 1;}#sk-container-id-2 div.sk-label:hover label.sk-toggleable__label {background-color: #d4ebff;}#sk-container-id-2 div.sk-serial::before {content: \"\";position: absolute;border-left: 1px solid gray;box-sizing: border-box;top: 0;bottom: 0;left: 50%;z-index: 0;}#sk-container-id-2 div.sk-serial {display: flex;flex-direction: column;align-items: center;background-color: white;padding-right: 0.2em;padding-left: 0.2em;position: relative;}#sk-container-id-2 div.sk-item {position: relative;z-index: 1;}#sk-container-id-2 div.sk-parallel {display: flex;align-items: stretch;justify-content: center;background-color: white;position: relative;}#sk-container-id-2 div.sk-item::before, #sk-container-id-2 div.sk-parallel-item::before {content: \"\";position: absolute;border-left: 1px solid gray;box-sizing: border-box;top: 0;bottom: 0;left: 50%;z-index: -1;}#sk-container-id-2 div.sk-parallel-item {display: flex;flex-direction: column;z-index: 1;position: relative;background-color: white;}#sk-container-id-2 div.sk-parallel-item:first-child::after {align-self: flex-end;width: 50%;}#sk-container-id-2 div.sk-parallel-item:last-child::after {align-self: flex-start;width: 50%;}#sk-container-id-2 div.sk-parallel-item:only-child::after {width: 0;}#sk-container-id-2 div.sk-dashed-wrapped {border: 1px dashed gray;margin: 0 0.4em 0.5em 0.4em;box-sizing: border-box;padding-bottom: 0.4em;background-color: white;}#sk-container-id-2 div.sk-label label {font-family: monospace;font-weight: bold;display: inline-block;line-height: 1.2em;}#sk-container-id-2 div.sk-label-container {text-align: center;}#sk-container-id-2 div.sk-container {/* jupyter's `normalize.less` sets `[hidden] { display: none; }` but bootstrap.min.css set `[hidden] { display: none !important; }` so we also need the `!important` here to be able to override the default hidden behavior on the sphinx rendered scikit-learn.org. See: https://github.com/scikit-learn/scikit-learn/issues/21755 */display: inline-block !important;position: relative;}#sk-container-id-2 div.sk-text-repr-fallback {display: none;}</style><div id=\"sk-container-id-2\" class=\"sk-top-container\"><div class=\"sk-text-repr-fallback\"><pre>LinearRegression()</pre><b>In a Jupyter environment, please rerun this cell to show the HTML representation or trust the notebook. <br />On GitHub, the HTML representation is unable to render, please try loading this page with nbviewer.org.</b></div><div class=\"sk-container\" hidden><div class=\"sk-item\"><div class=\"sk-estimator sk-toggleable\"><input class=\"sk-toggleable__control sk-hidden--visually\" id=\"sk-estimator-id-2\" type=\"checkbox\" checked><label for=\"sk-estimator-id-2\" class=\"sk-toggleable__label sk-toggleable__label-arrow\">LinearRegression</label><div class=\"sk-toggleable__content\"><pre>LinearRegression()</pre></div></div></div></div></div>"
      ],
      "text/plain": [
       "LinearRegression()"
      ]
     },
     "execution_count": 8,
     "metadata": {},
     "output_type": "execute_result"
    }
   ],
   "source": [
    "# Fitting Regression Model in dataframe\n",
    "reg = linear_model.LinearRegression()\n",
    "reg.fit(df[['hrs','Produced Meter/hr','Speed(m/hr)','Total RunTime(hrs)','Warmup Time(hrs)','Changeover Time(hrs)',\n",
    "            'Waiting Time(hrs)','Density of PET+MOPP(g/cm3)']],df.Energy_KWh)\n"
   ]
  },
  {
   "cell_type": "code",
   "execution_count": 4,
   "id": "e40bad4d",
   "metadata": {},
   "outputs": [
    {
     "data": {
      "text/plain": [
       "array([-1.83712203e+02, -3.73654160e-03,  0.00000000e+00,  9.88985623e+00,\n",
       "        0.00000000e+00,  3.01566005e+02,  2.85659549e+02,  0.00000000e+00])"
      ]
     },
     "execution_count": 4,
     "metadata": {},
     "output_type": "execute_result"
    }
   ],
   "source": [
    "# Determine the co-efficients of our regression model developed on available dataframe\n",
    "# e.g; y = mx + c \n",
    "# In above generic linear equation m is the co-efficient\n",
    "reg.coef_"
   ]
  },
  {
   "cell_type": "code",
   "execution_count": 5,
   "id": "b04d4158",
   "metadata": {},
   "outputs": [
    {
     "data": {
      "text/plain": [
       "1366.2234041595507"
      ]
     },
     "execution_count": 5,
     "metadata": {},
     "output_type": "execute_result"
    }
   ],
   "source": [
    "# Determine y-intercept of linear equation\n",
    "# y = mx + c \n",
    "# In above generic linear equation c is the y-intercept\n",
    "reg.intercept_"
   ]
  },
  {
   "cell_type": "code",
   "execution_count": 6,
   "id": "79c57406",
   "metadata": {},
   "outputs": [
    {
     "name": "stderr",
     "output_type": "stream",
     "text": [
      "C:\\Users\\irfan\\AppData\\Local\\Programs\\Python\\Python311\\Lib\\site-packages\\sklearn\\base.py:409: UserWarning: X does not have valid feature names, but LinearRegression was fitted with feature names\n",
      "  warnings.warn(\n"
     ]
    },
    {
     "data": {
      "text/plain": [
       "array([259.00115683])"
      ]
     },
     "execution_count": 6,
     "metadata": {},
     "output_type": "execute_result"
    }
   ],
   "source": [
    "# Model is trained and we can get predictions of future outputs \n",
    "# by giving the input parmetes ot our model.\n",
    "reg.predict([[6.46,1800,7.5,1.15,0.25,0.13,0.125,1.4]])"
   ]
  },
  {
   "cell_type": "code",
   "execution_count": 11,
   "id": "1b081db0",
   "metadata": {},
   "outputs": [
    {
     "data": {
      "text/plain": [
       "259.00115683905074"
      ]
     },
     "execution_count": 11,
     "metadata": {},
     "output_type": "execute_result"
    }
   ],
   "source": [
    "# Testing obtained results from regression model with results obtained from regression equation (Co-efficients, Y-Intercept Equ.)\n",
    "Energy = (6.46*-1.83712203e+02)+(1800*-3.73654160e-03)+(7.5*0)+(1.15*9.88985623e+00)+(0.25*0)+(0.13*3.01566005e+02)+(0.125*2.85659549e+02)+(1.4*0.00000000e+00)+1366.2234041595507\n",
    "Energy"
   ]
  }
 ],
 "metadata": {
  "kernelspec": {
   "display_name": "Python 3 (ipykernel)",
   "language": "python",
   "name": "python3"
  },
  "language_info": {
   "codemirror_mode": {
    "name": "ipython",
    "version": 3
   },
   "file_extension": ".py",
   "mimetype": "text/x-python",
   "name": "python",
   "nbconvert_exporter": "python",
   "pygments_lexer": "ipython3",
   "version": "3.11.1"
  }
 },
 "nbformat": 4,
 "nbformat_minor": 5
}
